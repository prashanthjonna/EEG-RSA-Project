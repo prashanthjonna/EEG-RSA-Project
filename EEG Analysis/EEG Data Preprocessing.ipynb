{
 "cells": [
  {
   "cell_type": "markdown",
   "id": "7d57c4fc",
   "metadata": {},
   "source": [
    "## Aim of this script : To create a single excel file containing EEG information related to all the participants in pre-meal and post-meal scenarios"
   ]
  },
  {
   "cell_type": "markdown",
   "id": "47cc95d7",
   "metadata": {},
   "source": [
    "----------------------------------------------"
   ]
  },
  {
   "cell_type": "markdown",
   "id": "96ea27c5",
   "metadata": {},
   "source": [
    "Importing the required libraries"
   ]
  },
  {
   "cell_type": "code",
   "execution_count": 8,
   "id": "45a31af8",
   "metadata": {},
   "outputs": [],
   "source": [
    "import pandas as pd\n",
    "import numpy as np\n",
    "import matplotlib.pyplot as plt\n",
    "from openpyxl import Workbook, load_workbook\n",
    "from openpyxl.utils import get_column_letter"
   ]
  },
  {
   "cell_type": "markdown",
   "id": "6380e074",
   "metadata": {},
   "source": [
    "Listing out the participants whose data is present in the EEG data folder"
   ]
  },
  {
   "cell_type": "code",
   "execution_count": 9,
   "id": "be1560b6",
   "metadata": {},
   "outputs": [],
   "source": [
    "Participant_list = [\"H1\", \"H2\", \"H3\", \"H4\", \"H5\", \"H6\"]\n",
    "df_pre_list = []\n",
    "df_post_list = []"
   ]
  },
  {
   "cell_type": "markdown",
   "id": "366d92ec",
   "metadata": {},
   "source": [
    "Since the data in EEG data folder is in a tabular format, we can't directly feed it into our ML model,<br>\n",
    "We need to flatten it out so that we can pass the EEG data as features <br>\n",
    "The ModifyExcelSheet() function takes the participant's ID (H1,H2,etc.) and state (pre/post) as input<br>\n",
    "Reads the EEG file related to the participant in from the \"EEG Data\" folder and modifies it to convert all the tabular data into a single row<br>\n",
    "The final file is saved in the \"EEG Data Modified\" folder"
   ]
  },
  {
   "cell_type": "code",
   "execution_count": 10,
   "id": "a3cb6dbd",
   "metadata": {},
   "outputs": [],
   "source": [
    "def ModifyExcelSheet(i,state) :\n",
    "\n",
    "    wb = load_workbook(filename=\"EEG Data/\" + i + \"_EC_\" + state + \"FrequencysPowerandPeak_Combined.xlsx\")\n",
    "    ws = wb.active\n",
    "    ws.move_range(\"A1:I66\", rows=1, cols=0, translate=True)\n",
    "\n",
    "    index = 1\n",
    "\n",
    "    for iter in range(1,67): \n",
    "\n",
    "        ws[get_column_letter(index) + str(1)] = \"Channel_\" + str(iter)\n",
    "        index += 1\n",
    "        ws[get_column_letter(index) + str(1)] = \"Delta_value_\" + str(iter)\n",
    "        index += 1\n",
    "        ws[get_column_letter(index) + str(1)] = \"Delta_frequency_\" + str(iter)\n",
    "        index += 1\n",
    "        ws[get_column_letter(index) + str(1)] = \"Theta_value_\" + str(iter)\n",
    "        index += 1\n",
    "        ws[get_column_letter(index) + str(1)] = \"Theta_frequency_\" + str(iter)\n",
    "        index += 1\n",
    "        ws[get_column_letter(index) + str(1)] = \"Alpha_value_\" + str(iter)\n",
    "        index += 1\n",
    "        ws[get_column_letter(index) + str(1)] = \"Alpha_frequency_\" + str(iter)\n",
    "        index += 1\n",
    "        ws[get_column_letter(index) + str(1)] = \"Beta_value_\" + str(iter)\n",
    "        index += 1\n",
    "        ws[get_column_letter(index) + str(1)] = \"Beta_frequency_\" + str(iter)\n",
    "        index += 1\n",
    "\n",
    "    ws[get_column_letter(index)+str(1)] = \"Output\"\n",
    "    \n",
    "    if(state==\"pre\"):\n",
    "\n",
    "        ws[get_column_letter(index) + str(2)] = 0\n",
    "\n",
    "    if(state==\"post\"):\n",
    "\n",
    "        ws[get_column_letter(index) + str(2)] = 1\n",
    "\n",
    "    for iter in range(2,68):\n",
    "\n",
    "        ws.move_range(\"A\" + str(iter) + \":I\" + str(iter), rows=-1*(iter-2), cols=9*(iter-2), translate=True)\n",
    "\n",
    "    wb.save(filename=\"EEG Data Modified/\" + i + \"_EC_\" + state + \"FrequencysPowerandPeak_Flattened.xlsx\")"
   ]
  },
  {
   "cell_type": "markdown",
   "id": "9d337493",
   "metadata": {},
   "source": [
    "We loop through the participants list and convert all the data from tabular to row format (flattening the data) using the ModifyExcelSheet() function. We now read the modified EEG data and make two dataframes for pre-meal and post-meal cases"
   ]
  },
  {
   "cell_type": "code",
   "execution_count": 11,
   "id": "365357a8",
   "metadata": {},
   "outputs": [],
   "source": [
    "for i in Participant_list :\n",
    "\n",
    "    ModifyExcelSheet(i,\"pre\")\n",
    "    ModifyExcelSheet(i,\"post\")\n",
    "\n",
    "    df_pre = pd.read_excel(\"EEG Data Modified/\" + i + \"_EC_\" + \"preFrequencysPowerandPeak_Flattened.xlsx\")\n",
    "    df_post = pd.read_excel(\"EEG Data Modified/\" + i + \"_EC_\" + \"postFrequencysPowerandPeak_Flattened.xlsx\")\n",
    "\n",
    "    df_pre_list.append(df_pre)\n",
    "    df_post_list.append(df_post)\n",
    "\n",
    "Pre_list_merged_df = pd.concat(df_pre_list, ignore_index=True, sort=False)\n",
    "Post_list_merged_df = pd.concat(df_post_list, ignore_index=True, sort=False)"
   ]
  },
  {
   "cell_type": "markdown",
   "id": "55d3da63",
   "metadata": {},
   "source": [
    "We now make a final dataframe by merging the pre-meal and post-meal case dataframes and save it as \"Final_df.xlsx\""
   ]
  },
  {
   "cell_type": "code",
   "execution_count": 12,
   "id": "dffe658e",
   "metadata": {},
   "outputs": [],
   "source": [
    "channel_list = []\n",
    "\n",
    "for i in range(1,67):\n",
    "    channel_list.append(\"Channel_\" + str(i))\n",
    "\n",
    "Pre_list_merged_df = Pre_list_merged_df.drop(channel_list, axis = 1)\n",
    "Post_list_merged_df = Post_list_merged_df.drop(channel_list, axis = 1)\n",
    "\n",
    "Final_df = pd.concat([Pre_list_merged_df,Post_list_merged_df], ignore_index=True, sort=False)\n",
    "Final_df.to_excel(\"Final_df.xlsx\")"
   ]
  },
  {
   "cell_type": "code",
   "execution_count": null,
   "id": "5961ffc2",
   "metadata": {},
   "outputs": [],
   "source": []
  }
 ],
 "metadata": {
  "kernelspec": {
   "display_name": "Python 3 (ipykernel)",
   "language": "python",
   "name": "python3"
  },
  "language_info": {
   "codemirror_mode": {
    "name": "ipython",
    "version": 3
   },
   "file_extension": ".py",
   "mimetype": "text/x-python",
   "name": "python",
   "nbconvert_exporter": "python",
   "pygments_lexer": "ipython3",
   "version": "3.9.12"
  }
 },
 "nbformat": 4,
 "nbformat_minor": 5
}
